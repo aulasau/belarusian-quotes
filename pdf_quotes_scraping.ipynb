{
 "cells": [
  {
   "cell_type": "code",
   "execution_count": 1,
   "id": "b0c96c3d-01c8-4e29-a0b9-92592d7114d4",
   "metadata": {},
   "outputs": [
    {
     "name": "stdout",
     "output_type": "stream",
     "text": [
      "Collecting PyMuPDF\n",
      "  Downloading PyMuPDF-1.23.7-cp310-none-macosx_10_9_x86_64.whl (4.1 MB)\n",
      "\u001b[2K     \u001b[90m━━━━━━━━━━━━━━━━━━━━━━━━━━━━━━━━━━━━━━━━\u001b[0m \u001b[32m4.1/4.1 MB\u001b[0m \u001b[31m3.3 MB/s\u001b[0m eta \u001b[36m0:00:00\u001b[0m00:01\u001b[0m00:01\u001b[0m\n",
      "\u001b[?25hCollecting PyMuPDFb==1.23.7\n",
      "  Downloading PyMuPDFb-1.23.7-py3-none-macosx_10_9_x86_64.whl (30.1 MB)\n",
      "\u001b[2K     \u001b[90m━━━━━━━━━━━━━━━━━━━━━━━━━━━━━━━━━━━━━━━━\u001b[0m \u001b[32m30.1/30.1 MB\u001b[0m \u001b[31m1.9 MB/s\u001b[0m eta \u001b[36m0:00:00\u001b[0m00:01\u001b[0m00:01\u001b[0m\n",
      "\u001b[?25hInstalling collected packages: PyMuPDFb, PyMuPDF\n",
      "Successfully installed PyMuPDF-1.23.7 PyMuPDFb-1.23.7\n"
     ]
    }
   ],
   "source": [
    "#!pip install PyMuPDF"
   ]
  },
  {
   "cell_type": "code",
   "execution_count": 1,
   "id": "90dcbd5e-5857-4d02-9ac0-49b4c52c30ee",
   "metadata": {},
   "outputs": [],
   "source": [
    "import numpy as np\n",
    "import pandas as pd\n",
    "\n",
    "\n",
    "from matplotlib import pyplot as plt\n",
    "import seaborn as sns\n",
    "import squarify\n",
    "import matplotlib\n",
    "from matplotlib import patheffects as pe\n",
    "\n",
    "import regex as re\n",
    "import string\n",
    "\n",
    "import tqdm\n",
    "from  pprint import pprint\n",
    "\n",
    "import fitz  ### it is PyMuPDF\n",
    "\n",
    "from collections import defaultdict, namedtuple\n",
    "\n",
    "plt.rcParams[\"figure.figsize\"] = (15, 10)"
   ]
  },
  {
   "cell_type": "markdown",
   "id": "788c33e4-d67d-41b2-9485-502b72f5cd85",
   "metadata": {},
   "source": [
    "## Беларуская_народная_творчасць. Прыказкі_і_прымаўкі"
   ]
  },
  {
   "cell_type": "markdown",
   "id": "edb7bd87-d3e1-43be-9321-48ce95fd8902",
   "metadata": {},
   "source": [
    "#### read pdf"
   ]
  },
  {
   "cell_type": "code",
   "execution_count": 2,
   "id": "3f805cd8-a562-4148-a154-233362308c9b",
   "metadata": {
    "scrolled": true
   },
   "outputs": [],
   "source": [
    "path = 'books/Беларуская_народная_творчасць.Прыказкі_і_прымаўкі.pdf'\n",
    "\n",
    "pdf = fitz.open(path)\n"
   ]
  },
  {
   "cell_type": "code",
   "execution_count": 3,
   "id": "5403a54a-a078-4a82-b0f4-22492eca2e49",
   "metadata": {},
   "outputs": [
    {
     "data": {
      "text/plain": [
       "page 50 of books/Беларуская_народная_творчасць.Прыказкі_і_прымаўкі.pdf"
      ]
     },
     "execution_count": 3,
     "metadata": {},
     "output_type": "execute_result"
    }
   ],
   "source": [
    "test_page = pdf[50]\n",
    "test_page"
   ]
  },
  {
   "cell_type": "code",
   "execution_count": 4,
   "id": "1217cfef-7c36-4407-8e69-c7460c637a26",
   "metadata": {},
   "outputs": [
    {
     "name": "stdout",
     "output_type": "stream",
     "text": [
      "ПРЫРОДА, ЯЕ СТЫХІІ I З'ЯВЫ. \n",
      "ЖЫВЕЛЬНЫ I РАСЛІННЫ СВЕТ \n",
      "1. Зямля — маці, а праца — бацька. Л. Корсак, 1961, Асіп. \n",
      "13.9.11*. \n",
      "2. Зямелька — матка наша: i корміць, i поіць, i адзяваець \n",
      "нас. Hoc, 49. \n",
      "3. Зямля — нас усіх маці; яна нас корміць, яна нас прыгор-\n",
      "не. Fed., 355. \n",
      "а) Зямелька нас корміць, а сама есці просіць. Нос, \n",
      "Слов., \n",
      "208. \n",
      "4. Зямля багацей ад усіх. Сержп., 17. \n",
      "5. Зямля не згарыць, не ўтоне. Fed., 355. \n",
      "а) Зямля не тонець, не гарыць. Нос, 49. Вар.: Ром., Бел., \n",
      "I, 296. \n",
      "6. На добрай зямлі добра надзея. Fed., 355. \n",
      "7. Такая зямля добрая: пасадзі аглоблю — калёсы вырас-\n",
      "туць. В. Іваноўская, 1962, Светл. 8.1.74. \n",
      "8. На добрай зямлі дзіця пасадзі, i тое вырасце. Сержп., 85. \n",
      "Вар.: Сержп., 32. \n",
      "9. Якая зямля, такі i хлеб. Сержп., 85. \n",
      "* Такія пашпарты даюцца да запісаў, якія захоўваюцца ў АІМЭФ. \n",
      "Яны азначаюць адпаведна прозвішча збіральніка, год i месца запісу, фонд, \n",
      "вопіс i справу. \n",
      "4* \n",
      "51 \n",
      "\n"
     ]
    }
   ],
   "source": [
    "print(test_page.get_text())"
   ]
  },
  {
   "cell_type": "code",
   "execution_count": 5,
   "id": "e6c2a172-6edd-4cbe-a47f-9b58ea9fe977",
   "metadata": {},
   "outputs": [],
   "source": [
    "ttext = test_page.get_text()"
   ]
  },
  {
   "cell_type": "code",
   "execution_count": 6,
   "id": "bb3548e8-0fa4-465c-8182-7a309676b983",
   "metadata": {},
   "outputs": [
    {
     "data": {
      "text/plain": [
       "[\"ПРЫРОДА, ЯЕ СТЫХІІ I З'ЯВЫ. \",\n",
       " 'ЖЫВЕЛЬНЫ I РАСЛІННЫ СВЕТ ',\n",
       " '1. Зямля — маці, а праца — бацька. Л. Корсак, 1961, Асіп. ',\n",
       " '13.9.11*. ',\n",
       " '2. Зямелька — матка наша: i корміць, i поіць, i адзяваець ',\n",
       " 'нас. Hoc, 49. ',\n",
       " '3. Зямля — нас усіх маці; яна нас корміць, яна нас прыгор-',\n",
       " 'не. Fed., 355. ',\n",
       " 'а) Зямелька нас корміць, а сама есці просіць. Нос, ',\n",
       " 'Слов., ',\n",
       " '208. ',\n",
       " '4. Зямля багацей ад усіх. Сержп., 17. ',\n",
       " '5. Зямля не згарыць, не ўтоне. Fed., 355. ',\n",
       " 'а) Зямля не тонець, не гарыць. Нос, 49. Вар.: Ром., Бел., ',\n",
       " 'I, 296. ',\n",
       " '6. На добрай зямлі добра надзея. Fed., 355. ',\n",
       " '7. Такая зямля добрая: пасадзі аглоблю — калёсы вырас-',\n",
       " 'туць. В. Іваноўская, 1962, Светл. 8.1.74. ',\n",
       " '8. На добрай зямлі дзіця пасадзі, i тое вырасце. Сержп., 85. ',\n",
       " 'Вар.: Сержп., 32. ',\n",
       " '9. Якая зямля, такі i хлеб. Сержп., 85. ',\n",
       " '* Такія пашпарты даюцца да запісаў, якія захоўваюцца ў АІМЭФ. ',\n",
       " 'Яны азначаюць адпаведна прозвішча збіральніка, год i месца запісу, фонд, ',\n",
       " 'вопіс i справу. ',\n",
       " '4* ',\n",
       " '51 ',\n",
       " '']"
      ]
     },
     "execution_count": 6,
     "metadata": {},
     "output_type": "execute_result"
    }
   ],
   "source": [
    "ttext.split('\\n')"
   ]
  },
  {
   "cell_type": "markdown",
   "id": "69b42809-f95c-4cfd-9fa3-b288d5301966",
   "metadata": {},
   "source": [
    "#### let's parse it, experiments"
   ]
  },
  {
   "cell_type": "code",
   "execution_count": 9,
   "id": "0063667a-d025-4305-8dce-5fb71038c856",
   "metadata": {
    "scrolled": true
   },
   "outputs": [
    {
     "name": "stdout",
     "output_type": "stream",
     "text": [
      "ПРЫРОДА, ЯЕ СТЫХІІ I З'ЯВЫ. \n",
      "ЖЫВЕЛЬНЫ I РАСЛІННЫ СВЕТ \n",
      "********** \n",
      "\n",
      "\n",
      "1. \n",
      "********** \n",
      "\n",
      "Зямля — маці, а праца — бацька. Л. Корсак, 1961, Асіп. \n",
      "13.9.11*. \n",
      "********** \n",
      "\n",
      "\n",
      "2. \n",
      "********** \n",
      "\n",
      "Зямелька — матка наша: i корміць, i поіць, i адзяваець \n",
      "нас. Hoc, 49. \n",
      "********** \n",
      "\n",
      "\n",
      "3. \n",
      "********** \n",
      "\n",
      "Зямля — нас усіх маці; яна нас корміць, яна нас прыгор-\n",
      "не. Fed., 355. \n",
      "а) Зямелька нас корміць, а сама есці просіць. Нос, \n",
      "Слов., \n",
      "********** \n",
      "\n",
      "\n",
      "208. \n",
      "********** \n",
      "\n",
      "\n",
      "********** \n",
      "\n",
      "\n",
      "4. \n",
      "********** \n",
      "\n",
      "Зямля багацей ад усіх. Сержп., 17. \n",
      "********** \n",
      "\n",
      "\n",
      "5. \n",
      "********** \n",
      "\n",
      "Зямля не згарыць, не ўтоне. Fed., 355. \n",
      "а) Зямля не тонець, не гарыць. Нос, 49. Вар.: Ром., Бел., \n",
      "I, 296. \n",
      "********** \n",
      "\n",
      "\n",
      "6. \n",
      "********** \n",
      "\n",
      "На добрай зямлі добра надзея. Fed., 355. \n",
      "********** \n",
      "\n",
      "\n",
      "7. \n",
      "********** \n",
      "\n",
      "Такая зямля добрая: пасадзі аглоблю — калёсы вырас-\n",
      "туць. В. Іваноўская, 1962, Светл. 8.1.74. \n",
      "********** \n",
      "\n",
      "\n",
      "8. \n",
      "********** \n",
      "\n",
      "На добрай зямлі дзіця пасадзі, i тое вырасце. Сержп., 85. \n",
      "Вар.: Сержп., 32. \n",
      "********** \n",
      "\n",
      "\n",
      "9. \n",
      "********** \n",
      "\n",
      "Якая зямля, такі i хлеб. Сержп., 85. \n",
      "* Такія пашпарты даюцца да запісаў, якія захоўваюцца ў АІМЭФ. \n",
      "Яны азначаюць адпаведна прозвішча збіральніка, год i месца запісу, фонд, \n",
      "вопіс i справу. \n",
      "4* \n",
      "51 \n",
      "\n",
      "********** \n",
      "\n"
     ]
    }
   ],
   "source": [
    "# for i in re.split('(\\n\\d+\\. )|(\\n\\p{L}\\) .+)', ttext, flags=re.DOTALL):\n",
    "for i in re.split('(\\n\\d+\\. )', ttext, flags=re.DOTALL):\n",
    "    print(i)\n",
    "    print ('*' * 10, '\\n')"
   ]
  },
  {
   "cell_type": "code",
   "execution_count": 10,
   "id": "b5b7af02-1af4-46e7-bbeb-41530c131d18",
   "metadata": {},
   "outputs": [
    {
     "name": "stdout",
     "output_type": "stream",
     "text": [
      "ПРЫРОДА, ЯЕ СТЫХІІ I З'ЯВЫ. \n",
      "ЖЫВЕЛЬНЫ I РАСЛІННЫ СВЕТ \n",
      "********** \n",
      "\n",
      "\n",
      "1. \n",
      "********** \n",
      "\n",
      "None\n",
      "********** \n",
      "\n",
      "Зямля — маці, а праца — бацька. Л. Корсак, 1961, Асіп. \n",
      "13.9.11*. \n",
      "********** \n",
      "\n",
      "\n",
      "2. \n",
      "********** \n",
      "\n",
      "None\n",
      "********** \n",
      "\n",
      "Зямелька — матка наша: i корміць, i поіць, i адзяваець \n",
      "нас. Hoc, 49. \n",
      "********** \n",
      "\n",
      "\n",
      "3. \n",
      "********** \n",
      "\n",
      "None\n",
      "********** \n",
      "\n",
      "Зямля — нас усіх маці; яна нас корміць, яна нас прыгор-\n",
      "не. Fed., 355. \n",
      "а) Зямелька нас корміць, а сама есці просіць. Нос, \n",
      "Слов., \n",
      "********** \n",
      "\n",
      "\n",
      "208. \n",
      "********** \n",
      "\n",
      "None\n",
      "********** \n",
      "\n",
      "\n",
      "********** \n",
      "\n",
      "\n",
      "4. \n",
      "********** \n",
      "\n",
      "None\n",
      "********** \n",
      "\n",
      "Зямля багацей ад усіх. Сержп., 17. \n",
      "********** \n",
      "\n",
      "\n",
      "5. \n",
      "********** \n",
      "\n",
      "None\n",
      "********** \n",
      "\n",
      "Зямля не згарыць, не ўтоне. Fed., 355. \n",
      "а) Зямля не тонець, не гарыць. Нос, 49. Вар.: Ром., Бел., \n",
      "I, 296. \n",
      "********** \n",
      "\n",
      "\n",
      "6. \n",
      "********** \n",
      "\n",
      "None\n",
      "********** \n",
      "\n",
      "На добрай зямлі добра надзея. Fed., 355. \n",
      "********** \n",
      "\n",
      "\n",
      "7. \n",
      "********** \n",
      "\n",
      "None\n",
      "********** \n",
      "\n",
      "Такая зямля добрая: пасадзі аглоблю — калёсы вырас-\n",
      "туць. В. Іваноўская, 1962, Светл. 8.1.74. \n",
      "********** \n",
      "\n",
      "\n",
      "8. \n",
      "********** \n",
      "\n",
      "None\n",
      "********** \n",
      "\n",
      "На добрай зямлі дзіця пасадзі, i тое вырасце. Сержп., 85. \n",
      "Вар.: Сержп., 32. \n",
      "********** \n",
      "\n",
      "\n",
      "9. \n",
      "********** \n",
      "\n",
      "None\n",
      "********** \n",
      "\n",
      "Якая зямля, такі i хлеб. Сержп., 85. \n",
      "* Такія пашпарты даюцца да запісаў, якія захоўваюцца ў АІМЭФ. \n",
      "Яны азначаюць адпаведна прозвішча збіральніка, год i месца запісу, фонд, \n",
      "вопіс i справу. \n",
      "4* \n",
      "51 \n",
      "\n",
      "********** \n",
      "\n"
     ]
    }
   ],
   "source": [
    "ttext = pdf[50].get_text()\n",
    "for i in re.split('(\\n\\d+\\. )|(^\\d+\\. )', ttext, flags=re.DOTALL):\n",
    "    print(i)\n",
    "    print ('*' * 10, '\\n')"
   ]
  },
  {
   "cell_type": "code",
   "execution_count": 11,
   "id": "9e14d16f-0b45-489e-b7fa-67a82f169105",
   "metadata": {},
   "outputs": [
    {
     "name": "stdout",
     "output_type": "stream",
     "text": [
      "['Як патрудзішся, так пажывішся. \\nЯнк., Дыял., \\nIII, 111, \\nГлуск. ', '\\nа) Патрудзіцца — тагды i пажывіцца. Янк., Дыял., \\nIII, \\n111, Глуск. ', '']\n",
      "['Хто не лянуецца туптаць, той мае што хруптаць. Fed., 315.']\n"
     ]
    }
   ],
   "source": [
    "t = \"\"\"Як патрудзішся, так пажывішся. \n",
    "Янк., Дыял., \n",
    "III, 111, \n",
    "Глуск. \n",
    "а) Патрудзіцца — тагды i пажывіцца. Янк., Дыял., \n",
    "III, \n",
    "111, Глуск. \"\"\"\n",
    "\n",
    "t1 = \"\"\"Хто не лянуецца туптаць, той мае што хруптаць. Fed., 315.\"\"\"\n",
    "\n",
    "print(re.split('(\\n\\p{L}\\) .+)', t, flags=re.DOTALL))\n",
    "print(re.split('(\\n\\p{L}\\) .+)', t1, flags=re.DOTALL))"
   ]
  },
  {
   "cell_type": "markdown",
   "id": "14b8adc2-0569-4c9f-bfab-16b1ffbeb25c",
   "metadata": {
    "editable": true,
    "slideshow": {
     "slide_type": ""
    },
    "tags": []
   },
   "source": [
    "#### main parsing cycle"
   ]
  },
  {
   "cell_type": "code",
   "execution_count": 12,
   "id": "74ca5b94-5d49-4a4e-baae-2c2284c37bde",
   "metadata": {},
   "outputs": [],
   "source": [
    "proverb_start_page = 50\n",
    "proverb_end_page = 512"
   ]
  },
  {
   "cell_type": "code",
   "execution_count": null,
   "id": "a1b0898d-ae54-4793-9158-cab9f347fd75",
   "metadata": {
    "editable": true,
    "slideshow": {
     "slide_type": ""
    },
    "tags": []
   },
   "outputs": [],
   "source": [
    "current_label = ''\n",
    "current_number = 0\n",
    "\n",
    "proverb_by_num_pattern = '(\\n\\d+\\. )|(^\\d+\\. )'\n",
    "# proverb_by_num_pattern = '(\\n?\\d+\\. )'\n",
    "\n",
    "proverbs = defaultdict(list)\n",
    "ProverbInfo = namedtuple('ProverbInfo', ['number', 'proverb', 'book_page'])\n",
    "\n",
    "possible_remove = []\n",
    "\n",
    "for i in tqdm.tqdm(range(proverb_start_page, proverb_end_page)):\n",
    "    cur_page_txt = pdf[i].get_text() \n",
    "    \n",
    "    candidates = re.split(proverb_by_num_pattern, cur_page_txt, flags=re.DOTALL)\n",
    "    \n",
    "    for k, candi in enumerate(candidates):\n",
    "        if candi is None:\n",
    "            continue\n",
    "        elif ((k == 0) and candi.isupper()):\n",
    "            current_label = candi.replace('\\n', '').strip()\n",
    "            # print(current_label, '\\n***********')\n",
    "            continue\n",
    "\n",
    "        if re.match('\\n?\\d+\\. ', candi):\n",
    "            new_num = int(candi.split('.')[0])\n",
    "            # print(new_num)\n",
    "            if abs(new_num - current_number) > 3:\n",
    "                # print(f'Page {i + 1}, {current_number=} and {new_num=} are not close!')\n",
    "                pass\n",
    "            current_number = new_num  \n",
    "        else:\n",
    "            # need to clean all variations like this:\n",
    "                # Не кайся рана ўстаць, а кайся позна спаць. Зах.і 250. \n",
    "                # а) Не жалей, рана ўстаўшы i позна палажыўшыся. Mien.,\n",
    "            # each case with 'a)', 'b)', etc. should be processed as separate proverb \n",
    "            # and then concatenated with first version\n",
    "            split_by_variations = re.split('(\\n\\p{L}\\) .+)', candi, flags=re.DOTALL)\n",
    "\n",
    "            final_proverb_form = ''\n",
    "            \n",
    "            # get rid of annotations like 'Зах.і 250.', 'Mien.,', etc.\n",
    "            final_proverb_form = '\\n'.join([vari.split('.')[0].replace('\\n', ' ')\n",
    "                                            for vari in split_by_variations if vari != ''])\n",
    "\n",
    "            #get rid of word wrap to another line like here: \n",
    "                # яна нас корміць, яна нас прыгор- не\n",
    "            final_proverb_form = re.sub('\\p{L}- ', lambda x: x.group(0)[0] , final_proverb_form)\n",
    "            \n",
    "            \n",
    "            if final_proverb_form == '':\n",
    "                continue\n",
    "            elif len(final_proverb_form) < 9: #removing short sentences which are dummy words\n",
    "                possible_remove.append(ProverbInfo(current_number, final_proverb_form, i+1))\n",
    "                continue\n",
    "                \n",
    "            proverbs[current_label].append(ProverbInfo(current_number, final_proverb_form, i+1))\n",
    "\n",
    "proverbs"
   ]
  },
  {
   "cell_type": "code",
   "execution_count": 108,
   "id": "a55ca72a-19d8-4cb9-80cd-6e6c28428b30",
   "metadata": {},
   "outputs": [
    {
     "name": "stdout",
     "output_type": "stream",
     "text": [
      "How many proverbs?\n",
      "\n",
      "[\"ПРЫРОДА, ЯЕ СТЫХІІ I З'ЯВЫ. ЖЫВЕЛЬНЫ I РАСЛІННЫ СВЕТ: 298\",\n",
      " 'ПОРЫ ГОДУ. ЧАС. НАРОДНЫ КАЛЯНДАР: 556',\n",
      " 'СЕЛЬСКАЯ ГАСПАДАРКА: 425',\n",
      " 'ПРОМЫСЛЫ I РАМЕСТВЫ: 480',\n",
      " 'ГАСПАДАРЛІВАСЦЬ. СЯЛЯНСКАЯ СЯДЗІБА: 326',\n",
      " 'ХАТА, ХАТНЯЕ АБСТАЛЯВАННЕ I НАЧЫННЕ: 116',\n",
      " 'ХАРЧАВАННЕ: 615',\n",
      " 'АДЗЕННЕ, АБУТАК, УПРЫГОЖАННІ: 150',\n",
      " 'ТРАНСПАРТНЫЯ СРОДКІ I ШЛЯХІ ЗНОСІН. У ДАРОЗЕ: 124',\n",
      " 'РАДЗІМА. ЧУЖЫНА: 105',\n",
      " 'КАРОЛЬ, ЦАР. ПАНЫ, ПАДПАНКІ, ШЛЯХТА. ПРЫГОН, МУЖЫКІ: 399',\n",
      " 'ПОП, КСЕНДЗ. ЦАРКОУНЫЯ СЛУЖКІ: 164',\n",
      " 'ЧЫНОУНІЦТВА. НАЧАЛЬСТВА. КАЗНА. ПАДАТКІ. ХАБАРНІЦТВА: 117',\n",
      " 'СУД. ЗАКОНЫ. ТУРМА: 124',\n",
      " 'СЛУЖБА. НАЙМЫ: 125',\n",
      " 'ГРАМАДА. КАЛЕКТЫВІЗМ. ІНДЫВІДУАЛІЗМ: 171',\n",
      " 'СЯБРОУСТВА. ВАРОЖАСЦЬ. СУСЕДСТВА. ГАСЦІННАСЦЬ: 321',\n",
      " 'БЕДНАСЦЬ. ЖАБРАЦТВА. БАГАЦТВА. САЦЫЯЛЬНА-МАЕМАСНАЯ НАРОУНАСЦЬ: 404',\n",
      " 'БЯДА, ГОРА, ЛІХА, НАПАСЦЬ, ЗЛЫДНІ. БЕЗВЫХОДНАСЦЬ. СПАДЗЯВАННІ: 251',\n",
      " 'ГАНДАЛЬ. ГРОШЫ. ПАЗЫКІ. ДАУГІ. КАРЧМА: 487',\n",
      " 'РЭКРУТЧЫНА, САЛДАТЧЫНА. ВОЙНЫ. ВОДГУКІ НА ГІСТАРЫЧНЫЯ ПАДЗЕІ: 132',\n",
      " 'ПРАЗВАННІ ЖЫХАРОУ РОЗНЫХ МЯСЦОВАСЦЕИ: 71']\n"
     ]
    }
   ],
   "source": [
    "print(f'How many proverbs?\\n')\n",
    "pprint([f'{key}: {len(val)}' for key, val in proverbs.items()])"
   ]
  },
  {
   "cell_type": "code",
   "execution_count": 109,
   "id": "98a0d87d-fec8-4724-a947-6fdcffa02f4a",
   "metadata": {
    "editable": true,
    "slideshow": {
     "slide_type": ""
    },
    "tags": []
   },
   "outputs": [
    {
     "name": "stdout",
     "output_type": "stream",
     "text": [
      "How many proverbs?\n",
      "\n",
      "[\"ПРЫРОДА, ЯЕ СТЫХІІ I З'ЯВЫ. ЖЫВЕЛЬНЫ I РАСЛІННЫ СВЕТ: 298\",\n",
      " 'ПОРЫ ГОДУ. ЧАС. НАРОДНЫ КАЛЯНДАР: 556',\n",
      " 'СЕЛЬСКАЯ ГАСПАДАРКА: 425',\n",
      " 'ПРОМЫСЛЫ I РАМЕСТВЫ: 480',\n",
      " 'ГАСПАДАРЛІВАСЦЬ. СЯЛЯНСКАЯ СЯДЗІБА: 326',\n",
      " 'ХАТА, ХАТНЯЕ АБСТАЛЯВАННЕ I НАЧЫННЕ: 116',\n",
      " 'ХАРЧАВАННЕ: 615',\n",
      " 'АДЗЕННЕ, АБУТАК, УПРЫГОЖАННІ: 150',\n",
      " 'ТРАНСПАРТНЫЯ СРОДКІ I ШЛЯХІ ЗНОСІН. У ДАРОЗЕ: 124',\n",
      " 'РАДЗІМА. ЧУЖЫНА: 105',\n",
      " 'КАРОЛЬ, ЦАР. ПАНЫ, ПАДПАНКІ, ШЛЯХТА. ПРЫГОН, МУЖЫКІ: 399',\n",
      " 'ПОП, КСЕНДЗ. ЦАРКОУНЫЯ СЛУЖКІ: 164',\n",
      " 'ЧЫНОУНІЦТВА. НАЧАЛЬСТВА. КАЗНА. ПАДАТКІ. ХАБАРНІЦТВА: 117',\n",
      " 'СУД. ЗАКОНЫ. ТУРМА: 124',\n",
      " 'СЛУЖБА. НАЙМЫ: 125',\n",
      " 'ГРАМАДА. КАЛЕКТЫВІЗМ. ІНДЫВІДУАЛІЗМ: 171',\n",
      " 'СЯБРОУСТВА. ВАРОЖАСЦЬ. СУСЕДСТВА. ГАСЦІННАСЦЬ: 321',\n",
      " 'БЕДНАСЦЬ. ЖАБРАЦТВА. БАГАЦТВА. САЦЫЯЛЬНА-МАЕМАСНАЯ НАРОУНАСЦЬ: 404',\n",
      " 'БЯДА, ГОРА, ЛІХА, НАПАСЦЬ, ЗЛЫДНІ. БЕЗВЫХОДНАСЦЬ. СПАДЗЯВАННІ: 251',\n",
      " 'ГАНДАЛЬ. ГРОШЫ. ПАЗЫКІ. ДАУГІ. КАРЧМА: 487',\n",
      " 'РЭКРУТЧЫНА, САЛДАТЧЫНА. ВОЙНЫ. ВОДГУКІ НА ГІСТАРЫЧНЫЯ ПАДЗЕІ: 132',\n",
      " 'ПРАЗВАННІ ЖЫХАРОУ РОЗНЫХ МЯСЦОВАСЦЕИ: 71']\n",
      "IN GENERAL: 5961\n"
     ]
    }
   ],
   "source": [
    "print(f'How many proverbs?\\n')\n",
    "pprint([f'{key}: {len(val)}' for key, val in proverbs.items()])\n",
    "print('IN GENERAL:', sum([len(val) for key, val in proverbs.items()]))"
   ]
  },
  {
   "cell_type": "markdown",
   "id": "71301340-acca-4544-8aa8-a9a2b00da75a",
   "metadata": {},
   "source": [
    "#### handle special cases"
   ]
  },
  {
   "cell_type": "markdown",
   "id": "a708f34e-3ead-4324-9da8-a3e39aa08715",
   "metadata": {},
   "source": [
    "Return 'Праца' category. It starts at 164 page and ends at 182 page"
   ]
  },
  {
   "cell_type": "code",
   "execution_count": 110,
   "id": "ace5e933-7a5c-492a-a2c6-4e65031b67d0",
   "metadata": {},
   "outputs": [],
   "source": [
    "indexes_to_remove = []\n",
    "for i in range(len(proverbs['ПРОМЫСЛЫ I РАМЕСТВЫ'])):\n",
    "    if proverbs['ПРОМЫСЛЫ I РАМЕСТВЫ'][i].book_page >= 164:\n",
    "        proverbs['ПРАЦА'].append(proverbs['ПРОМЫСЛЫ I РАМЕСТВЫ'][i])\n",
    "        indexes_to_remove.append(i)\n",
    "    \n",
    "proverbs['ПРОМЫСЛЫ I РАМЕСТВЫ'] = [v for i, v in enumerate(proverbs['ПРОМЫСЛЫ I РАМЕСТВЫ']) if i not in indexes_to_remove]\n",
    "    "
   ]
  },
  {
   "cell_type": "code",
   "execution_count": 111,
   "id": "68c867e8-31b1-461b-86f0-db191ba9fafa",
   "metadata": {},
   "outputs": [
    {
     "name": "stdout",
     "output_type": "stream",
     "text": [
      "How many proverbs?\n",
      "\n",
      "[\"ПРЫРОДА, ЯЕ СТЫХІІ I З'ЯВЫ. ЖЫВЕЛЬНЫ I РАСЛІННЫ СВЕТ: 298\",\n",
      " 'ПОРЫ ГОДУ. ЧАС. НАРОДНЫ КАЛЯНДАР: 556',\n",
      " 'СЕЛЬСКАЯ ГАСПАДАРКА: 425',\n",
      " 'ПРОМЫСЛЫ I РАМЕСТВЫ: 226',\n",
      " 'ГАСПАДАРЛІВАСЦЬ. СЯЛЯНСКАЯ СЯДЗІБА: 326',\n",
      " 'ХАТА, ХАТНЯЕ АБСТАЛЯВАННЕ I НАЧЫННЕ: 116',\n",
      " 'ХАРЧАВАННЕ: 615',\n",
      " 'АДЗЕННЕ, АБУТАК, УПРЫГОЖАННІ: 150',\n",
      " 'ТРАНСПАРТНЫЯ СРОДКІ I ШЛЯХІ ЗНОСІН. У ДАРОЗЕ: 124',\n",
      " 'РАДЗІМА. ЧУЖЫНА: 105',\n",
      " 'КАРОЛЬ, ЦАР. ПАНЫ, ПАДПАНКІ, ШЛЯХТА. ПРЫГОН, МУЖЫКІ: 399',\n",
      " 'ПОП, КСЕНДЗ. ЦАРКОУНЫЯ СЛУЖКІ: 164',\n",
      " 'ЧЫНОУНІЦТВА. НАЧАЛЬСТВА. КАЗНА. ПАДАТКІ. ХАБАРНІЦТВА: 117',\n",
      " 'СУД. ЗАКОНЫ. ТУРМА: 124',\n",
      " 'СЛУЖБА. НАЙМЫ: 125',\n",
      " 'ГРАМАДА. КАЛЕКТЫВІЗМ. ІНДЫВІДУАЛІЗМ: 171',\n",
      " 'СЯБРОУСТВА. ВАРОЖАСЦЬ. СУСЕДСТВА. ГАСЦІННАСЦЬ: 321',\n",
      " 'БЕДНАСЦЬ. ЖАБРАЦТВА. БАГАЦТВА. САЦЫЯЛЬНА-МАЕМАСНАЯ НАРОУНАСЦЬ: 404',\n",
      " 'БЯДА, ГОРА, ЛІХА, НАПАСЦЬ, ЗЛЫДНІ. БЕЗВЫХОДНАСЦЬ. СПАДЗЯВАННІ: 251',\n",
      " 'ГАНДАЛЬ. ГРОШЫ. ПАЗЫКІ. ДАУГІ. КАРЧМА: 487',\n",
      " 'РЭКРУТЧЫНА, САЛДАТЧЫНА. ВОЙНЫ. ВОДГУКІ НА ГІСТАРЫЧНЫЯ ПАДЗЕІ: 132',\n",
      " 'ПРАЗВАННІ ЖЫХАРОУ РОЗНЫХ МЯСЦОВАСЦЕИ: 71',\n",
      " 'ПРАЦА: 254']\n"
     ]
    }
   ],
   "source": [
    "print(f'How many proverbs?\\n')\n",
    "pprint([f'{key}: {len(val)}' for key, val in proverbs.items()])"
   ]
  },
  {
   "cell_type": "markdown",
   "id": "f6f0a83d-abbd-4a69-82fb-5c67c2c35e21",
   "metadata": {},
   "source": [
    "---\n",
    "Handling case when new page starts with variant like 'б) *variant*'"
   ]
  },
  {
   "cell_type": "code",
   "execution_count": null,
   "id": "b46fdc82-ac40-4ead-bb7a-79d068a6bba0",
   "metadata": {
    "editable": true,
    "slideshow": {
     "slide_type": ""
    },
    "tags": []
   },
   "outputs": [],
   "source": [
    "prev_prev = ProverbInfo(-2, '', 0)\n",
    "prev = ProverbInfo(-1, '', 0)\n",
    "count_occasions = 0\n",
    "for ctg in proverbs:\n",
    "    for prov in proverbs[ctg]:\n",
    "        if re.match('\\n?\\p{L}\\)', prov.proverb):\n",
    "            count_occasions += 1\n",
    "            print(f'{prev_prev.proverb=}, {prev_prev.book_page=}')\n",
    "            print(f'{prev.proverb=}, {prev.book_page=}')\n",
    "            print(f'{prov.proverb=}')\n",
    "            print('*'*10)\n",
    "        prev_prev = prev\n",
    "        prev = prov\n",
    "        \n",
    "\n",
    "count_occasions"
   ]
  },
  {
   "cell_type": "code",
   "execution_count": 86,
   "id": "4485a44e-2fae-4f18-8184-977b85f3ca4e",
   "metadata": {},
   "outputs": [
    {
     "data": {
      "text/plain": [
       "6"
      ]
     },
     "execution_count": 86,
     "metadata": {},
     "output_type": "execute_result"
    }
   ],
   "source": [
    "len(' 491  ')"
   ]
  },
  {
   "cell_type": "code",
   "execution_count": null,
   "id": "988d5130-4ed6-45e8-a298-ed951f5b8cd0",
   "metadata": {},
   "outputs": [],
   "source": []
  }
 ],
 "metadata": {
  "kernelspec": {
   "display_name": "Python 3 (ipykernel)",
   "language": "python",
   "name": "python3"
  },
  "language_info": {
   "codemirror_mode": {
    "name": "ipython",
    "version": 3
   },
   "file_extension": ".py",
   "mimetype": "text/x-python",
   "name": "python",
   "nbconvert_exporter": "python",
   "pygments_lexer": "ipython3",
   "version": "3.10.5"
  }
 },
 "nbformat": 4,
 "nbformat_minor": 5
}
