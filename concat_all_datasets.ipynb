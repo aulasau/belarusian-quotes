{
 "cells": [
  {
   "cell_type": "code",
   "execution_count": 1,
   "id": "3bff2da7-2642-402e-b7c3-b8ffecad57a7",
   "metadata": {},
   "outputs": [],
   "source": [
    "import numpy as np\n",
    "import pandas as pd\n",
    "\n",
    "import matplotlib\n",
    "from matplotlib import patheffects as pe\n",
    "import matplotlib.pyplot as plt\n",
    "import seaborn as sns\n",
    "import squarify\n",
    "\n",
    "import regex as re\n",
    "import string\n",
    "\n",
    "import tqdm\n",
    "from  pprint import pprint\n",
    "\n",
    "import fitz  ### it is PyMuPDF\n",
    "\n",
    "from collections import defaultdict, namedtuple\n",
    "\n",
    "plt.rcParams[\"figure.figsize\"] = (15, 10)\n",
    "pd.set_option('display.max_colwidth', 100)"
   ]
  },
  {
   "cell_type": "markdown",
   "id": "f83c6137-6738-4e0e-af7e-6b07cf15e3d1",
   "metadata": {},
   "source": [
    "## Read CSVs"
   ]
  },
  {
   "cell_type": "code",
   "execution_count": 19,
   "id": "0bdb51af-a2aa-45f6-9d0c-fc3b3dbdc1ff",
   "metadata": {},
   "outputs": [],
   "source": [
    "webpage_quotes, zajka_proverbs, bnt_proverbs =  map(pd.read_csv, ['data/webpage_data/all_quotes.csv',\n",
    "                                                                  'data/book_data/after_formatting_Прыказкі_Прымаўкі_З_Косаўшчыны.csv', \n",
    "                                                                  'data/book_data/prefiltered_Беларуская_народная_творчасць.csv'])"
   ]
  },
  {
   "cell_type": "code",
   "execution_count": 20,
   "id": "1f1ea427-87f4-4210-8a67-997bc030f832",
   "metadata": {},
   "outputs": [
    {
     "data": {
      "text/html": [
       "<div>\n",
       "<style scoped>\n",
       "    .dataframe tbody tr th:only-of-type {\n",
       "        vertical-align: middle;\n",
       "    }\n",
       "\n",
       "    .dataframe tbody tr th {\n",
       "        vertical-align: top;\n",
       "    }\n",
       "\n",
       "    .dataframe thead th {\n",
       "        text-align: right;\n",
       "    }\n",
       "</style>\n",
       "<table border=\"1\" class=\"dataframe\">\n",
       "  <thead>\n",
       "    <tr style=\"text-align: right;\">\n",
       "      <th></th>\n",
       "      <th>quote</th>\n",
       "      <th>author</th>\n",
       "      <th>source</th>\n",
       "      <th>low_text</th>\n",
       "    </tr>\n",
       "  </thead>\n",
       "  <tbody>\n",
       "    <tr>\n",
       "      <th>0</th>\n",
       "      <td>І будзе ўнукаў панаванне\\nТам, дзе сягоння пла...</td>\n",
       "      <td>Янка Купала</td>\n",
       "      <td>nlb.by</td>\n",
       "      <td>і будзе ўнукаў панаванне там дзе сягоння плача...</td>\n",
       "    </tr>\n",
       "    <tr>\n",
       "      <th>1</th>\n",
       "      <td>Няма для духа вольнага граніцы</td>\n",
       "      <td>Янка Купала</td>\n",
       "      <td>nlb.by</td>\n",
       "      <td>няма для духа вольнага граніцы</td>\n",
       "    </tr>\n",
       "    <tr>\n",
       "      <th>2</th>\n",
       "      <td>Песні, знайце, – сэрца дар</td>\n",
       "      <td>Янка Купала</td>\n",
       "      <td>nlb.by</td>\n",
       "      <td>песні знайце – сэрца дар</td>\n",
       "    </tr>\n",
       "  </tbody>\n",
       "</table>\n",
       "</div>"
      ],
      "text/plain": [
       "                                               quote       author  source  \\\n",
       "0  І будзе ўнукаў панаванне\\nТам, дзе сягоння пла...  Янка Купала  nlb.by   \n",
       "1                     Няма для духа вольнага граніцы  Янка Купала  nlb.by   \n",
       "2                         Песні, знайце, – сэрца дар  Янка Купала  nlb.by   \n",
       "\n",
       "                                            low_text  \n",
       "0  і будзе ўнукаў панаванне там дзе сягоння плача...  \n",
       "1                     няма для духа вольнага граніцы  \n",
       "2                           песні знайце – сэрца дар  "
      ]
     },
     "execution_count": 20,
     "metadata": {},
     "output_type": "execute_result"
    }
   ],
   "source": [
    "webpage_quotes.head(3)"
   ]
  },
  {
   "cell_type": "code",
   "execution_count": 5,
   "id": "b19595c0-c8a4-4bd3-af67-c019db237616",
   "metadata": {},
   "outputs": [
    {
     "data": {
      "text/html": [
       "<div>\n",
       "<style scoped>\n",
       "    .dataframe tbody tr th:only-of-type {\n",
       "        vertical-align: middle;\n",
       "    }\n",
       "\n",
       "    .dataframe tbody tr th {\n",
       "        vertical-align: top;\n",
       "    }\n",
       "\n",
       "    .dataframe thead th {\n",
       "        text-align: right;\n",
       "    }\n",
       "</style>\n",
       "<table border=\"1\" class=\"dataframe\">\n",
       "  <thead>\n",
       "    <tr style=\"text-align: right;\">\n",
       "      <th></th>\n",
       "      <th>category</th>\n",
       "      <th>proverb</th>\n",
       "    </tr>\n",
       "  </thead>\n",
       "  <tbody>\n",
       "    <tr>\n",
       "      <th>0</th>\n",
       "      <td>ПРЫРОДА, ЯЕ СТЫХІІ I З'ЯВЫ. ЖЫВЕЛЬНЫ I РАСЛІНН...</td>\n",
       "      <td>Зямля — маці, а праца — бацька.</td>\n",
       "    </tr>\n",
       "    <tr>\n",
       "      <th>1</th>\n",
       "      <td>ПОРЫ ГОДУ. НАРОДНЫ КАЛЯНДАР</td>\n",
       "      <td>Жураўлі ляцяць высока — зіма яшчэ далека.</td>\n",
       "    </tr>\n",
       "    <tr>\n",
       "      <th>2</th>\n",
       "      <td>СЕЛЬСКАЯ ГАСПАДАРКА</td>\n",
       "      <td>Пабыла Хімка ў лядах, пабачыла працы.</td>\n",
       "    </tr>\n",
       "  </tbody>\n",
       "</table>\n",
       "</div>"
      ],
      "text/plain": [
       "                                            category  \\\n",
       "0  ПРЫРОДА, ЯЕ СТЫХІІ I З'ЯВЫ. ЖЫВЕЛЬНЫ I РАСЛІНН...   \n",
       "1                        ПОРЫ ГОДУ. НАРОДНЫ КАЛЯНДАР   \n",
       "2                                СЕЛЬСКАЯ ГАСПАДАРКА   \n",
       "\n",
       "                                     proverb  \n",
       "0            Зямля — маці, а праца — бацька.  \n",
       "1  Жураўлі ляцяць высока — зіма яшчэ далека.  \n",
       "2      Пабыла Хімка ў лядах, пабачыла працы.  "
      ]
     },
     "execution_count": 5,
     "metadata": {},
     "output_type": "execute_result"
    }
   ],
   "source": [
    "bnt_proverbs.head(3)"
   ]
  },
  {
   "cell_type": "code",
   "execution_count": 4,
   "id": "40f545d6-3c1b-48ec-b5a9-d2f4cd42d57f",
   "metadata": {},
   "outputs": [
    {
     "data": {
      "text/html": [
       "<div>\n",
       "<style scoped>\n",
       "    .dataframe tbody tr th:only-of-type {\n",
       "        vertical-align: middle;\n",
       "    }\n",
       "\n",
       "    .dataframe tbody tr th {\n",
       "        vertical-align: top;\n",
       "    }\n",
       "\n",
       "    .dataframe thead th {\n",
       "        text-align: right;\n",
       "    }\n",
       "</style>\n",
       "<table border=\"1\" class=\"dataframe\">\n",
       "  <thead>\n",
       "    <tr style=\"text-align: right;\">\n",
       "      <th></th>\n",
       "      <th>page</th>\n",
       "      <th>category</th>\n",
       "      <th>proverb</th>\n",
       "    </tr>\n",
       "  </thead>\n",
       "  <tbody>\n",
       "    <tr>\n",
       "      <th>0</th>\n",
       "      <td>11</td>\n",
       "      <td>ПРЫКАЗКІ І ПРЫМАЎКІ</td>\n",
       "      <td>Абедаў, а жывот не ведаў. \\nГэтак кажа той, хт...</td>\n",
       "    </tr>\n",
       "    <tr>\n",
       "      <th>1</th>\n",
       "      <td>11</td>\n",
       "      <td>ПРЫКАЗКІ І ПРЫМАЎКІ</td>\n",
       "      <td>Або пан, або прапаў. \\nТак кажуць, калі пачына...</td>\n",
       "    </tr>\n",
       "    <tr>\n",
       "      <th>2</th>\n",
       "      <td>11</td>\n",
       "      <td>ПРЫКАЗКІ І ПРЫМАЎКІ</td>\n",
       "      <td>Абы балота, а чэрці знойдуцца. \\n“Былі б рукі,...</td>\n",
       "    </tr>\n",
       "  </tbody>\n",
       "</table>\n",
       "</div>"
      ],
      "text/plain": [
       "   page             category  \\\n",
       "0    11  ПРЫКАЗКІ І ПРЫМАЎКІ   \n",
       "1    11  ПРЫКАЗКІ І ПРЫМАЎКІ   \n",
       "2    11  ПРЫКАЗКІ І ПРЫМАЎКІ   \n",
       "\n",
       "                                             proverb  \n",
       "0  Абедаў, а жывот не ведаў. \\nГэтак кажа той, хт...  \n",
       "1  Або пан, або прапаў. \\nТак кажуць, калі пачына...  \n",
       "2  Абы балота, а чэрці знойдуцца. \\n“Былі б рукі,...  "
      ]
     },
     "execution_count": 4,
     "metadata": {},
     "output_type": "execute_result"
    }
   ],
   "source": [
    "zajka_proverbs.head(3)"
   ]
  },
  {
   "cell_type": "markdown",
   "id": "fb8c977d-437d-4972-9d87-f64c3ea81ae5",
   "metadata": {},
   "source": [
    "## Align CSVs to single format"
   ]
  },
  {
   "cell_type": "markdown",
   "id": "b2f2f906-b6c1-4a19-8d09-4b24950aee9b",
   "metadata": {},
   "source": [
    "#### webpage_quotes"
   ]
  },
  {
   "cell_type": "code",
   "execution_count": 21,
   "id": "91ee9105-7b0a-4985-a03d-8c38d76d7ecb",
   "metadata": {},
   "outputs": [
    {
     "data": {
      "text/html": [
       "<div>\n",
       "<style scoped>\n",
       "    .dataframe tbody tr th:only-of-type {\n",
       "        vertical-align: middle;\n",
       "    }\n",
       "\n",
       "    .dataframe tbody tr th {\n",
       "        vertical-align: top;\n",
       "    }\n",
       "\n",
       "    .dataframe thead th {\n",
       "        text-align: right;\n",
       "    }\n",
       "</style>\n",
       "<table border=\"1\" class=\"dataframe\">\n",
       "  <thead>\n",
       "    <tr style=\"text-align: right;\">\n",
       "      <th></th>\n",
       "      <th>phrase</th>\n",
       "      <th>category</th>\n",
       "      <th>source</th>\n",
       "      <th>source_type</th>\n",
       "    </tr>\n",
       "  </thead>\n",
       "  <tbody>\n",
       "    <tr>\n",
       "      <th>0</th>\n",
       "      <td>І будзе ўнукаў панаванне\\nТам, дзе сягоння пла...</td>\n",
       "      <td>Янка Купала</td>\n",
       "      <td>nlb.by</td>\n",
       "      <td>webpage</td>\n",
       "    </tr>\n",
       "    <tr>\n",
       "      <th>1</th>\n",
       "      <td>Няма для духа вольнага граніцы</td>\n",
       "      <td>Янка Купала</td>\n",
       "      <td>nlb.by</td>\n",
       "      <td>webpage</td>\n",
       "    </tr>\n",
       "  </tbody>\n",
       "</table>\n",
       "</div>"
      ],
      "text/plain": [
       "                                              phrase     category  source  \\\n",
       "0  І будзе ўнукаў панаванне\\nТам, дзе сягоння пла...  Янка Купала  nlb.by   \n",
       "1                     Няма для духа вольнага граніцы  Янка Купала  nlb.by   \n",
       "\n",
       "  source_type  \n",
       "0     webpage  \n",
       "1     webpage  "
      ]
     },
     "execution_count": 21,
     "metadata": {},
     "output_type": "execute_result"
    }
   ],
   "source": [
    "webpage_quotes = webpage_quotes.rename(columns={'quote': 'phrase', 'author': 'category'}).drop('low_text', axis=1)\n",
    "webpage_quotes['source_type'] = 'webpage'\n",
    "webpage_quotes.head(2)"
   ]
  },
  {
   "cell_type": "code",
   "execution_count": 23,
   "id": "cc682407-1950-4cdb-969a-291d545bd416",
   "metadata": {},
   "outputs": [
    {
     "data": {
      "text/plain": [
       "dumki.org                      726\n",
       "nlb.by                         102\n",
       "svaboda.org_a_24255332.html     86\n",
       "Name: source, dtype: int64"
      ]
     },
     "execution_count": 23,
     "metadata": {},
     "output_type": "execute_result"
    }
   ],
   "source": [
    "webpage_quotes.source.value_counts()"
   ]
  },
  {
   "cell_type": "code",
   "execution_count": 24,
   "id": "638b0228-fa1c-431a-b6b8-99269a341728",
   "metadata": {},
   "outputs": [],
   "source": [
    "def set_precise_webpage_source(source):\n",
    "    source_map = {\n",
    "        'dumki.org': 'dumki.org',\n",
    "        'nlb.by': \"https://www.nlb.by/by/infarmatsyynyya-resursy/elektronnyya-infarmatsyynyya-resursy/resursy-natsyyanalnay-bibliyateki-belarusi/virtualnyya-praekty-vysta-ki-i-kalektsyi/virtualnyya-praekty-bibliyateki/klasiki-susvetnay-litaratury-yanka-kupala-i-yakub-/vyslo-i-vykazvanni-afaryzmy-belaruskikh-pesnyaro\",\n",
    "        'svaboda.org_a_24255332.html': r'https://www.svaboda.org/a/24255332.html'\n",
    "    }\n",
    "    return source_map[source]\n",
    "webpage_quotes['full_source'] = webpage_quotes.source.apply(set_precise_webpage_source)"
   ]
  },
  {
   "cell_type": "code",
   "execution_count": 26,
   "id": "0fce77f1-aef2-41f9-9732-c12ae396b861",
   "metadata": {},
   "outputs": [
    {
     "data": {
      "text/plain": [
       "dumki.org      726\n",
       "nlb.by         102\n",
       "svaboda.org     86\n",
       "Name: source, dtype: int64"
      ]
     },
     "execution_count": 26,
     "metadata": {},
     "output_type": "execute_result"
    }
   ],
   "source": [
    "webpage_quotes.source = webpage_quotes.source.apply(lambda x: \"svaboda.org\" if x == \"svaboda.org_a_24255332.html\" else x)\n",
    "webpage_quotes.source.value_counts()"
   ]
  },
  {
   "cell_type": "code",
   "execution_count": 27,
   "id": "4c8b9d3f-428d-4813-bc82-4e68b36fdec9",
   "metadata": {},
   "outputs": [
    {
     "data": {
      "text/html": [
       "<div>\n",
       "<style scoped>\n",
       "    .dataframe tbody tr th:only-of-type {\n",
       "        vertical-align: middle;\n",
       "    }\n",
       "\n",
       "    .dataframe tbody tr th {\n",
       "        vertical-align: top;\n",
       "    }\n",
       "\n",
       "    .dataframe thead th {\n",
       "        text-align: right;\n",
       "    }\n",
       "</style>\n",
       "<table border=\"1\" class=\"dataframe\">\n",
       "  <thead>\n",
       "    <tr style=\"text-align: right;\">\n",
       "      <th></th>\n",
       "      <th>phrase</th>\n",
       "      <th>category</th>\n",
       "      <th>source</th>\n",
       "      <th>source_type</th>\n",
       "      <th>full_source</th>\n",
       "    </tr>\n",
       "  </thead>\n",
       "  <tbody>\n",
       "    <tr>\n",
       "      <th>0</th>\n",
       "      <td>І будзе ўнукаў панаванне\\nТам, дзе сягоння пла...</td>\n",
       "      <td>Янка Купала</td>\n",
       "      <td>nlb.by</td>\n",
       "      <td>webpage</td>\n",
       "      <td>https://www.nlb.by/by/infarmatsyynyya-resursy/...</td>\n",
       "    </tr>\n",
       "    <tr>\n",
       "      <th>1</th>\n",
       "      <td>Няма для духа вольнага граніцы</td>\n",
       "      <td>Янка Купала</td>\n",
       "      <td>nlb.by</td>\n",
       "      <td>webpage</td>\n",
       "      <td>https://www.nlb.by/by/infarmatsyynyya-resursy/...</td>\n",
       "    </tr>\n",
       "  </tbody>\n",
       "</table>\n",
       "</div>"
      ],
      "text/plain": [
       "                                              phrase     category  source  \\\n",
       "0  І будзе ўнукаў панаванне\\nТам, дзе сягоння пла...  Янка Купала  nlb.by   \n",
       "1                     Няма для духа вольнага граніцы  Янка Купала  nlb.by   \n",
       "\n",
       "  source_type                                        full_source  \n",
       "0     webpage  https://www.nlb.by/by/infarmatsyynyya-resursy/...  \n",
       "1     webpage  https://www.nlb.by/by/infarmatsyynyya-resursy/...  "
      ]
     },
     "execution_count": 27,
     "metadata": {},
     "output_type": "execute_result"
    }
   ],
   "source": [
    "webpage_quotes.head(2)"
   ]
  },
  {
   "cell_type": "markdown",
   "id": "54d15bb0-3242-4b5c-ba56-5a1dfcd4b1f4",
   "metadata": {},
   "source": [
    "---\n",
    "#### bnt phrases"
   ]
  },
  {
   "cell_type": "code",
   "execution_count": 28,
   "id": "6dd01714-0482-450a-9f58-fae060139a54",
   "metadata": {},
   "outputs": [
    {
     "data": {
      "text/html": [
       "<div>\n",
       "<style scoped>\n",
       "    .dataframe tbody tr th:only-of-type {\n",
       "        vertical-align: middle;\n",
       "    }\n",
       "\n",
       "    .dataframe tbody tr th {\n",
       "        vertical-align: top;\n",
       "    }\n",
       "\n",
       "    .dataframe thead th {\n",
       "        text-align: right;\n",
       "    }\n",
       "</style>\n",
       "<table border=\"1\" class=\"dataframe\">\n",
       "  <thead>\n",
       "    <tr style=\"text-align: right;\">\n",
       "      <th></th>\n",
       "      <th>category</th>\n",
       "      <th>phrase</th>\n",
       "      <th>source</th>\n",
       "    </tr>\n",
       "  </thead>\n",
       "  <tbody>\n",
       "    <tr>\n",
       "      <th>0</th>\n",
       "      <td>ПРЫРОДА, ЯЕ СТЫХІІ I З'ЯВЫ. ЖЫВЕЛЬНЫ I РАСЛІНН...</td>\n",
       "      <td>Зямля — маці, а праца — бацька.</td>\n",
       "      <td>Беларуская народная творчасць. Прыказкі і прым...</td>\n",
       "    </tr>\n",
       "    <tr>\n",
       "      <th>1</th>\n",
       "      <td>ПОРЫ ГОДУ. НАРОДНЫ КАЛЯНДАР</td>\n",
       "      <td>Жураўлі ляцяць высока — зіма яшчэ далека.</td>\n",
       "      <td>Беларуская народная творчасць. Прыказкі і прым...</td>\n",
       "    </tr>\n",
       "  </tbody>\n",
       "</table>\n",
       "</div>"
      ],
      "text/plain": [
       "                                            category  \\\n",
       "0  ПРЫРОДА, ЯЕ СТЫХІІ I З'ЯВЫ. ЖЫВЕЛЬНЫ I РАСЛІНН...   \n",
       "1                        ПОРЫ ГОДУ. НАРОДНЫ КАЛЯНДАР   \n",
       "\n",
       "                                      phrase  \\\n",
       "0            Зямля — маці, а праца — бацька.   \n",
       "1  Жураўлі ляцяць высока — зіма яшчэ далека.   \n",
       "\n",
       "                                              source  \n",
       "0  Беларуская народная творчасць. Прыказкі і прым...  \n",
       "1  Беларуская народная творчасць. Прыказкі і прым...  "
      ]
     },
     "execution_count": 28,
     "metadata": {},
     "output_type": "execute_result"
    }
   ],
   "source": [
    "bnt_proverbs = bnt_proverbs.rename(columns={'proverb': 'phrase'})\n",
    "bnt_proverbs['source'] = 'Беларуская народная творчасць. Прыказкі і прымаўкі. У дзьвюх кнігах'\n",
    "bnt_proverbs.head(2)"
   ]
  },
  {
   "cell_type": "code",
   "execution_count": 29,
   "id": "6fca3367-1247-43d6-a8d3-36280ab92e54",
   "metadata": {},
   "outputs": [
    {
     "data": {
      "text/html": [
       "<div>\n",
       "<style scoped>\n",
       "    .dataframe tbody tr th:only-of-type {\n",
       "        vertical-align: middle;\n",
       "    }\n",
       "\n",
       "    .dataframe tbody tr th {\n",
       "        vertical-align: top;\n",
       "    }\n",
       "\n",
       "    .dataframe thead th {\n",
       "        text-align: right;\n",
       "    }\n",
       "</style>\n",
       "<table border=\"1\" class=\"dataframe\">\n",
       "  <thead>\n",
       "    <tr style=\"text-align: right;\">\n",
       "      <th></th>\n",
       "      <th>category</th>\n",
       "      <th>phrase</th>\n",
       "      <th>source</th>\n",
       "      <th>full_source</th>\n",
       "      <th>source_type</th>\n",
       "    </tr>\n",
       "  </thead>\n",
       "  <tbody>\n",
       "    <tr>\n",
       "      <th>0</th>\n",
       "      <td>ПРЫРОДА, ЯЕ СТЫХІІ I З'ЯВЫ. ЖЫВЕЛЬНЫ I РАСЛІНН...</td>\n",
       "      <td>Зямля — маці, а праца — бацька.</td>\n",
       "      <td>Беларуская народная творчасць. Прыказкі і прым...</td>\n",
       "      <td>Беларуская народная творчасць. Прыказкі і прым...</td>\n",
       "      <td>book</td>\n",
       "    </tr>\n",
       "    <tr>\n",
       "      <th>1</th>\n",
       "      <td>ПОРЫ ГОДУ. НАРОДНЫ КАЛЯНДАР</td>\n",
       "      <td>Жураўлі ляцяць высока — зіма яшчэ далека.</td>\n",
       "      <td>Беларуская народная творчасць. Прыказкі і прым...</td>\n",
       "      <td>Беларуская народная творчасць. Прыказкі і прым...</td>\n",
       "      <td>book</td>\n",
       "    </tr>\n",
       "  </tbody>\n",
       "</table>\n",
       "</div>"
      ],
      "text/plain": [
       "                                            category  \\\n",
       "0  ПРЫРОДА, ЯЕ СТЫХІІ I З'ЯВЫ. ЖЫВЕЛЬНЫ I РАСЛІНН...   \n",
       "1                        ПОРЫ ГОДУ. НАРОДНЫ КАЛЯНДАР   \n",
       "\n",
       "                                      phrase  \\\n",
       "0            Зямля — маці, а праца — бацька.   \n",
       "1  Жураўлі ляцяць высока — зіма яшчэ далека.   \n",
       "\n",
       "                                              source  \\\n",
       "0  Беларуская народная творчасць. Прыказкі і прым...   \n",
       "1  Беларуская народная творчасць. Прыказкі і прым...   \n",
       "\n",
       "                                         full_source source_type  \n",
       "0  Беларуская народная творчасць. Прыказкі і прым...        book  \n",
       "1  Беларуская народная творчасць. Прыказкі і прым...        book  "
      ]
     },
     "execution_count": 29,
     "metadata": {},
     "output_type": "execute_result"
    }
   ],
   "source": [
    "bnt_proverbs['full_source'] = bnt_proverbs['source']\n",
    "bnt_proverbs['source_type'] = 'book'\n",
    "bnt_proverbs.head(2)"
   ]
  },
  {
   "cell_type": "markdown",
   "id": "9d6838e7-59a8-4037-9d29-4855bb7facbc",
   "metadata": {},
   "source": [
    "---\n",
    "#### zajka-cosaushchyna phrases"
   ]
  },
  {
   "cell_type": "code",
   "execution_count": 67,
   "id": "6886cdb4-7ab0-4dda-a01c-4c0ad6658743",
   "metadata": {},
   "outputs": [
    {
     "data": {
      "text/html": [
       "<div>\n",
       "<style scoped>\n",
       "    .dataframe tbody tr th:only-of-type {\n",
       "        vertical-align: middle;\n",
       "    }\n",
       "\n",
       "    .dataframe tbody tr th {\n",
       "        vertical-align: top;\n",
       "    }\n",
       "\n",
       "    .dataframe thead th {\n",
       "        text-align: right;\n",
       "    }\n",
       "</style>\n",
       "<table border=\"1\" class=\"dataframe\">\n",
       "  <thead>\n",
       "    <tr style=\"text-align: right;\">\n",
       "      <th></th>\n",
       "      <th>page</th>\n",
       "      <th>category</th>\n",
       "      <th>phrase</th>\n",
       "      <th>source</th>\n",
       "      <th>full_source</th>\n",
       "    </tr>\n",
       "  </thead>\n",
       "  <tbody>\n",
       "    <tr>\n",
       "      <th>0</th>\n",
       "      <td>11</td>\n",
       "      <td>ПРЫКАЗКІ І ПРЫМАЎКІ</td>\n",
       "      <td>Абедаў, а жывот не ведаў. \\nГэтак кажа той, хт...</td>\n",
       "      <td>Алесь Зайка. Прыказкі і прымаўкі з Косаўшчыны</td>\n",
       "      <td>Алесь Зайка. Прыказкі і прымаўкі з Косаўшчыны,...</td>\n",
       "    </tr>\n",
       "    <tr>\n",
       "      <th>1</th>\n",
       "      <td>11</td>\n",
       "      <td>ПРЫКАЗКІ І ПРЫМАЎКІ</td>\n",
       "      <td>Або пан, або прапаў. \\nТак кажуць, калі пачына...</td>\n",
       "      <td>Алесь Зайка. Прыказкі і прымаўкі з Косаўшчыны</td>\n",
       "      <td>Алесь Зайка. Прыказкі і прымаўкі з Косаўшчыны,...</td>\n",
       "    </tr>\n",
       "  </tbody>\n",
       "</table>\n",
       "</div>"
      ],
      "text/plain": [
       "   page             category  \\\n",
       "0    11  ПРЫКАЗКІ І ПРЫМАЎКІ   \n",
       "1    11  ПРЫКАЗКІ І ПРЫМАЎКІ   \n",
       "\n",
       "                                              phrase  \\\n",
       "0  Абедаў, а жывот не ведаў. \\nГэтак кажа той, хт...   \n",
       "1  Або пан, або прапаў. \\nТак кажуць, калі пачына...   \n",
       "\n",
       "                                          source  \\\n",
       "0  Алесь Зайка. Прыказкі і прымаўкі з Косаўшчыны   \n",
       "1  Алесь Зайка. Прыказкі і прымаўкі з Косаўшчыны   \n",
       "\n",
       "                                         full_source  \n",
       "0  Алесь Зайка. Прыказкі і прымаўкі з Косаўшчыны,...  \n",
       "1  Алесь Зайка. Прыказкі і прымаўкі з Косаўшчыны,...  "
      ]
     },
     "execution_count": 67,
     "metadata": {},
     "output_type": "execute_result"
    }
   ],
   "source": [
    "zajka_proverbs.rename(columns={'proverb': 'phrase'}, inplace=True)\n",
    "zajka_proverbs['source'] = 'Алесь Зайка. Прыказкі і прымаўкі з Косаўшчыны'\n",
    "zajka_proverbs['full_source'] = zajka_proverbs.apply(lambda x: x.source + ', page ' + str(x.page), axis=1)\n",
    "zajka_proverbs.head(2)"
   ]
  },
  {
   "cell_type": "code",
   "execution_count": 68,
   "id": "bef01887-575e-4792-b01a-ad490908ca86",
   "metadata": {},
   "outputs": [
    {
     "data": {
      "text/plain": [
       "Алесь Зайка. Прыказкі і прымаўкі з Косаўшчыны, page 183    21\n",
       "Алесь Зайка. Прыказкі і прымаўкі з Косаўшчыны, page 166    20\n",
       "Алесь Зайка. Прыказкі і прымаўкі з Косаўшчыны, page 188    19\n",
       "Алесь Зайка. Прыказкі і прымаўкі з Косаўшчыны, page 169    19\n",
       "Алесь Зайка. Прыказкі і прымаўкі з Косаўшчыны, page 170    19\n",
       "                                                           ..\n",
       "Алесь Зайка. Прыказкі і прымаўкі з Косаўшчыны, page 286     6\n",
       "Алесь Зайка. Прыказкі і прымаўкі з Косаўшчыны, page 162     5\n",
       "Алесь Зайка. Прыказкі і прымаўкі з Косаўшчыны, page 129     5\n",
       "Алесь Зайка. Прыказкі і прымаўкі з Косаўшчыны, page 156     3\n",
       "Алесь Зайка. Прыказкі і прымаўкі з Косаўшчыны, page 136     2\n",
       "Name: full_source, Length: 276, dtype: int64"
      ]
     },
     "execution_count": 68,
     "metadata": {},
     "output_type": "execute_result"
    }
   ],
   "source": [
    "zajka_proverbs.full_source.value_counts()"
   ]
  },
  {
   "cell_type": "code",
   "execution_count": 69,
   "id": "cfa8aba4-ebce-4bfb-9ae9-ef2573f8e042",
   "metadata": {},
   "outputs": [],
   "source": [
    "zajka_proverbs['source_type'] = 'book'"
   ]
  },
  {
   "cell_type": "code",
   "execution_count": 70,
   "id": "415ac8c5-06eb-4e15-965f-15e75a855512",
   "metadata": {},
   "outputs": [
    {
     "data": {
      "text/html": [
       "<div>\n",
       "<style scoped>\n",
       "    .dataframe tbody tr th:only-of-type {\n",
       "        vertical-align: middle;\n",
       "    }\n",
       "\n",
       "    .dataframe tbody tr th {\n",
       "        vertical-align: top;\n",
       "    }\n",
       "\n",
       "    .dataframe thead th {\n",
       "        text-align: right;\n",
       "    }\n",
       "</style>\n",
       "<table border=\"1\" class=\"dataframe\">\n",
       "  <thead>\n",
       "    <tr style=\"text-align: right;\">\n",
       "      <th></th>\n",
       "      <th>category</th>\n",
       "      <th>phrase</th>\n",
       "      <th>source</th>\n",
       "      <th>full_source</th>\n",
       "      <th>source_type</th>\n",
       "    </tr>\n",
       "  </thead>\n",
       "  <tbody>\n",
       "    <tr>\n",
       "      <th>0</th>\n",
       "      <td>ПРЫКАЗКІ І ПРЫМАЎКІ</td>\n",
       "      <td>Абедаў, а жывот не ведаў. \\nГэтак кажа той, хт...</td>\n",
       "      <td>Алесь Зайка. Прыказкі і прымаўкі з Косаўшчыны</td>\n",
       "      <td>Алесь Зайка. Прыказкі і прымаўкі з Косаўшчыны,...</td>\n",
       "      <td>book</td>\n",
       "    </tr>\n",
       "    <tr>\n",
       "      <th>1</th>\n",
       "      <td>ПРЫКАЗКІ І ПРЫМАЎКІ</td>\n",
       "      <td>Або пан, або прапаў. \\nТак кажуць, калі пачына...</td>\n",
       "      <td>Алесь Зайка. Прыказкі і прымаўкі з Косаўшчыны</td>\n",
       "      <td>Алесь Зайка. Прыказкі і прымаўкі з Косаўшчыны,...</td>\n",
       "      <td>book</td>\n",
       "    </tr>\n",
       "  </tbody>\n",
       "</table>\n",
       "</div>"
      ],
      "text/plain": [
       "              category                                             phrase  \\\n",
       "0  ПРЫКАЗКІ І ПРЫМАЎКІ  Абедаў, а жывот не ведаў. \\nГэтак кажа той, хт...   \n",
       "1  ПРЫКАЗКІ І ПРЫМАЎКІ  Або пан, або прапаў. \\nТак кажуць, калі пачына...   \n",
       "\n",
       "                                          source  \\\n",
       "0  Алесь Зайка. Прыказкі і прымаўкі з Косаўшчыны   \n",
       "1  Алесь Зайка. Прыказкі і прымаўкі з Косаўшчыны   \n",
       "\n",
       "                                         full_source source_type  \n",
       "0  Алесь Зайка. Прыказкі і прымаўкі з Косаўшчыны,...        book  \n",
       "1  Алесь Зайка. Прыказкі і прымаўкі з Косаўшчыны,...        book  "
      ]
     },
     "execution_count": 70,
     "metadata": {},
     "output_type": "execute_result"
    }
   ],
   "source": [
    "zajka_proverbs.drop('page', axis=1, inplace=True)\n",
    "zajka_proverbs.head(2)"
   ]
  },
  {
   "cell_type": "markdown",
   "id": "2b4a57ae-be51-4f9d-8a57-62dfd0c09788",
   "metadata": {},
   "source": [
    "---\n",
    "## All data df"
   ]
  },
  {
   "cell_type": "code",
   "execution_count": 79,
   "id": "10b96ad8-2e0c-4d8a-a7a2-86435f4d205f",
   "metadata": {},
   "outputs": [
    {
     "data": {
      "text/html": [
       "<div>\n",
       "<style scoped>\n",
       "    .dataframe tbody tr th:only-of-type {\n",
       "        vertical-align: middle;\n",
       "    }\n",
       "\n",
       "    .dataframe tbody tr th {\n",
       "        vertical-align: top;\n",
       "    }\n",
       "\n",
       "    .dataframe thead th {\n",
       "        text-align: right;\n",
       "    }\n",
       "</style>\n",
       "<table border=\"1\" class=\"dataframe\">\n",
       "  <thead>\n",
       "    <tr style=\"text-align: right;\">\n",
       "      <th></th>\n",
       "      <th>phrase</th>\n",
       "      <th>category</th>\n",
       "      <th>source</th>\n",
       "      <th>source_type</th>\n",
       "      <th>full_source</th>\n",
       "    </tr>\n",
       "  </thead>\n",
       "  <tbody>\n",
       "    <tr>\n",
       "      <th>8779</th>\n",
       "      <td>Раззёва! \\nРазява.</td>\n",
       "      <td>ЗНЕВАЖАННІ</td>\n",
       "      <td>Алесь Зайка. Прыказкі і прымаўкі з Косаўшчыны</td>\n",
       "      <td>book</td>\n",
       "      <td>Алесь Зайка. Прыказкі і прымаўкі з Косаўшчыны,...</td>\n",
       "    </tr>\n",
       "    <tr>\n",
       "      <th>5604</th>\n",
       "      <td>Мужык гол-гоп, а яго хлоп-хлоп.</td>\n",
       "      <td>КАРОЛЬ, ЦАР. ПАНЫ, ПАДПАНКІ, ШЛЯХТА. ПРЫГОН, М...</td>\n",
       "      <td>Беларуская народная творчасць. Прыказкі і прым...</td>\n",
       "      <td>book</td>\n",
       "      <td>Беларуская народная творчасць. Прыказкі і прым...</td>\n",
       "    </tr>\n",
       "  </tbody>\n",
       "</table>\n",
       "</div>"
      ],
      "text/plain": [
       "                               phrase  \\\n",
       "8779               Раззёва! \\nРазява.   \n",
       "5604  Мужык гол-гоп, а яго хлоп-хлоп.   \n",
       "\n",
       "                                               category  \\\n",
       "8779                                         ЗНЕВАЖАННІ   \n",
       "5604  КАРОЛЬ, ЦАР. ПАНЫ, ПАДПАНКІ, ШЛЯХТА. ПРЫГОН, М...   \n",
       "\n",
       "                                                 source source_type  \\\n",
       "8779      Алесь Зайка. Прыказкі і прымаўкі з Косаўшчыны        book   \n",
       "5604  Беларуская народная творчасць. Прыказкі і прым...        book   \n",
       "\n",
       "                                            full_source  \n",
       "8779  Алесь Зайка. Прыказкі і прымаўкі з Косаўшчыны,...  \n",
       "5604  Беларуская народная творчасць. Прыказкі і прым...  "
      ]
     },
     "execution_count": 79,
     "metadata": {},
     "output_type": "execute_result"
    }
   ],
   "source": [
    "full_df = pd.concat([webpage_quotes, bnt_proverbs, zajka_proverbs],\n",
    "          axis=0,\n",
    "          ignore_index=True)\n",
    "full_df.sample(2)"
   ]
  },
  {
   "cell_type": "code",
   "execution_count": 86,
   "id": "36750eda-827d-4d10-89be-c74d1eb5c7c0",
   "metadata": {},
   "outputs": [
    {
     "data": {
      "text/plain": [
       "(9749, 5)"
      ]
     },
     "execution_count": 86,
     "metadata": {},
     "output_type": "execute_result"
    }
   ],
   "source": [
    "full_df.shape"
   ]
  },
  {
   "cell_type": "markdown",
   "id": "87d904fe-4a7d-4941-a0c5-170b51ed111e",
   "metadata": {},
   "source": [
    "#### duplicates search "
   ]
  },
  {
   "cell_type": "code",
   "execution_count": 100,
   "id": "914b9ffb-b63d-46f0-9a4b-f24bfa9e1178",
   "metadata": {},
   "outputs": [],
   "source": [
    "from thefuzz import fuzz, process\n",
    "from tqdm import tqdm_pandas\n",
    "from tqdm.notebook import trange, tqdm\n",
    "# from tqdm.notebook import tqdm_pandas"
   ]
  },
  {
   "cell_type": "code",
   "execution_count": 101,
   "id": "2bfed8de-7602-4634-b85d-5aba0a546fc4",
   "metadata": {},
   "outputs": [],
   "source": [
    "tqdm.pandas()"
   ]
  },
  {
   "cell_type": "code",
   "execution_count": 166,
   "id": "d6adc191-6507-4c31-b57a-4eb099786aa3",
   "metadata": {
    "scrolled": true
   },
   "outputs": [],
   "source": [
    "# THIS DOES NOT WORK FOR OUR CASE\n",
    "#token_set_sample = full_df.phrase.apply(lambda x: process.extractBests(x, full_df.phrase.values, score_cutoff=80, scorer=fuzz.token_set_ratio))\n",
    "# ---------\n",
    "\n",
    "\n",
    "# THIS WORKS\n",
    "def preprocess(txt):\n",
    "    return txt.strip().lower() \n",
    "\n",
    "token_sort_sample = full_df.phrase.apply(lambda x: process.extractBests(preprocess(x), full_df.phrase.values, processor=preprocess, score_cutoff=85, scorer=fuzz.token_sort_ratio))"
   ]
  },
  {
   "cell_type": "code",
   "execution_count": 193,
   "id": "f3239e39-91cb-4621-b0c2-1a1f5db960bc",
   "metadata": {},
   "outputs": [],
   "source": [
    "threshold = 90\n",
    "close_duplicate_groups = [] \n",
    "\n",
    "for group in token_sort_sample:\n",
    "    cur_group = [(txt, similar) for (txt, similar) in group if similar >= threshold]\n",
    "    if len(cur_group) > 1:\n",
    "        close_duplicate_groups.append(cur_group)"
   ]
  },
  {
   "cell_type": "code",
   "execution_count": 195,
   "id": "b27f4d11-1bc0-49db-88ab-7421050e972a",
   "metadata": {},
   "outputs": [
    {
     "data": {
      "text/plain": [
       "[[('Воля сонейку раўня', 100), ('Воля ‒ сонейку роўня', 94)],\n",
       " [('Якім бы велічным не здаваўся трон, усё роўна на ім сядзіць задніца', 100),\n",
       "  ('Якім бы велічным ні здаваўся трон, усё роўна на ім сядзіць задніца.', 98)],\n",
       " [('Роблена наспех і зроблена насмех', 100),\n",
       "  ('Рублена наспех i зроблена насмех.', 91)],\n",
       " [('Не давай, Божа, лячыцца ды судзіцца', 100),\n",
       "  ('Не давай, божа, лячыцца ды судзіцца.', 100)],\n",
       " [('На чужой старонцы рад сваёй варонцы', 100),\n",
       "  ('На чужой старонцы рад сваей варонцы.', 97)],\n",
       " [('Хоць еш крапіву ды салому, але пры дому.', 100),\n",
       "  ('Хоць ясі крапіву ды салому, але пры дому', 91),\n",
       "  ('Хоць ясі крапіву ды салому, але пры дому.', 91)],\n",
       " [('Няма смачнейшае вадзіцы, як з роднай крыніцы.', 100),\n",
       "  ('Няма смачнейшай вадзіцы, як з роднай крыніцы', 98)],\n",
       " [('Прымусовая работа самая цяжкая.', 100),\n",
       "  ('Прымусная работа самая цяжкая.', 95)],\n",
       " [('Каму што, а пеўню ‒ бойка', 100), ('Каму што, а пеўню бойка.', 100)],\n",
       " [('Прымусная работа самая цяжкая.', 100),\n",
       "  ('Прымусовая работа самая цяжкая.', 95)],\n",
       " [('Не было нас, быў квас, i не будзе нас, будзе квас.', 100),\n",
       "  ('Не было нас, быў квас, і не будзе нас, бузде квас', 93)],\n",
       " [('Дару грошы, сама зарабляла, хачу, каб маладая маладога пацалавала.', 100),\n",
       "  ('Гэтыя грошы я сама зарабляла, хачу, каб маладая маладога пацалавала.',\n",
       "   91)],\n",
       " [('Лысая галава як калена.', 100), ('Галава як калена. \\nГ. зн. лысая.', 90)]]"
      ]
     },
     "execution_count": 195,
     "metadata": {},
     "output_type": "execute_result"
    }
   ],
   "source": [
    "close_duplicate_groups[::15]"
   ]
  },
  {
   "cell_type": "code",
   "execution_count": 199,
   "id": "15edc31a-bf74-4b88-8097-60a4b2fea92f",
   "metadata": {},
   "outputs": [
    {
     "data": {
      "text/plain": [
       "array(['nlb.by', 'svaboda.org', 'dumki.org',\n",
       "       'Беларуская народная творчасць. Прыказкі і прымаўкі. У дзьвюх кнігах',\n",
       "       'Алесь Зайка. Прыказкі і прымаўкі з Косаўшчыны'], dtype=object)"
      ]
     },
     "execution_count": 199,
     "metadata": {},
     "output_type": "execute_result"
    }
   ],
   "source": [
    "full_df.source.unique()"
   ]
  },
  {
   "cell_type": "code",
   "execution_count": 208,
   "id": "1b176073-9170-4be8-9c24-56b447d891bd",
   "metadata": {},
   "outputs": [],
   "source": [
    "def sort_by_source(sources):\n",
    "    mapping = {\n",
    "        'Беларуская народная творчасць. Прыказкі і прымаўкі. У дзьвюх кнігах': 1,\n",
    "        'Алесь Зайка. Прыказкі і прымаўкі з Косаўшчыны': 2,\n",
    "        'dumki.org': 3,\n",
    "        'svaboda.org': 4,\n",
    "        'nlb.by': 5, \n",
    "    }\n",
    "    return sources.apply(lambda x: mapping[x])"
   ]
  },
  {
   "cell_type": "code",
   "execution_count": 244,
   "id": "3b120b1c-7dc2-45c4-838a-d24dbf69a1d2",
   "metadata": {},
   "outputs": [
    {
     "data": {
      "text/plain": [
       "{4071}"
      ]
     },
     "execution_count": 244,
     "metadata": {},
     "output_type": "execute_result"
    }
   ],
   "source": [
    "indexes_to_remove = []\n",
    "indexes_to_keep = []\n",
    "for group in close_duplicate_groups:\n",
    "    group_txts = [txt for (txt, sim) in group]\n",
    "    dupl_entries = full_df[full_df.phrase.isin(group_txts)]\n",
    "    dupl_entries = dupl_entries.sort_values(by='source', key=sort_by_source)\n",
    "    \n",
    "    indexes_to_remove.extend(dupl_entries.index[1:])\n",
    "    indexes_to_keep.append(dupl_entries.index[0])\n",
    "\n",
    "set(indexes_to_keep).intersection(set(indexes_to_remove))"
   ]
  },
  {
   "cell_type": "code",
   "execution_count": 246,
   "id": "62bbcdba-8be0-4e4a-9e4d-b86fe2fe45df",
   "metadata": {},
   "outputs": [],
   "source": [
    "indexes_to_remove = set(indexes_to_remove) - set(indexes_to_keep)"
   ]
  },
  {
   "cell_type": "code",
   "execution_count": 248,
   "id": "1fe23167-8a31-4e2a-ba25-07f3a0d76167",
   "metadata": {},
   "outputs": [
    {
     "data": {
      "text/plain": [
       "94"
      ]
     },
     "execution_count": 248,
     "metadata": {},
     "output_type": "execute_result"
    }
   ],
   "source": [
    "len(indexes_to_remove)"
   ]
  },
  {
   "cell_type": "code",
   "execution_count": 249,
   "id": "f4a06ef7-9f6c-4427-b6c9-61cb34a7ec30",
   "metadata": {},
   "outputs": [
    {
     "data": {
      "text/plain": [
       "(9655, 5)"
      ]
     },
     "execution_count": 249,
     "metadata": {},
     "output_type": "execute_result"
    }
   ],
   "source": [
    "full_df = full_df.drop(index=indexes_to_remove)\n",
    "full_df.shape"
   ]
  },
  {
   "cell_type": "markdown",
   "id": "f99dbcab-1ad5-4c5b-93ea-4d1dff82681b",
   "metadata": {},
   "source": [
    "### save full_df"
   ]
  },
  {
   "cell_type": "code",
   "execution_count": 251,
   "id": "bd37def6-b5ff-4bbd-b227-ceed8097e9f5",
   "metadata": {},
   "outputs": [
    {
     "data": {
      "text/html": [
       "<div>\n",
       "<style scoped>\n",
       "    .dataframe tbody tr th:only-of-type {\n",
       "        vertical-align: middle;\n",
       "    }\n",
       "\n",
       "    .dataframe tbody tr th {\n",
       "        vertical-align: top;\n",
       "    }\n",
       "\n",
       "    .dataframe thead th {\n",
       "        text-align: right;\n",
       "    }\n",
       "</style>\n",
       "<table border=\"1\" class=\"dataframe\">\n",
       "  <thead>\n",
       "    <tr style=\"text-align: right;\">\n",
       "      <th></th>\n",
       "      <th>phrase</th>\n",
       "      <th>category</th>\n",
       "      <th>source</th>\n",
       "      <th>source_type</th>\n",
       "      <th>full_source</th>\n",
       "    </tr>\n",
       "  </thead>\n",
       "  <tbody>\n",
       "    <tr>\n",
       "      <th>9744</th>\n",
       "      <td>Як у душу плюнуў. \\nГ. зн. сказаў нешта вельмі непрыемнае, крыўднае.</td>\n",
       "      <td>ПАРАЎНАННІ</td>\n",
       "      <td>Алесь Зайка. Прыказкі і прымаўкі з Косаўшчыны</td>\n",
       "      <td>book</td>\n",
       "      <td>Алесь Зайка. Прыказкі і прымаўкі з Косаўшчыны, page 286</td>\n",
       "    </tr>\n",
       "    <tr>\n",
       "      <th>9745</th>\n",
       "      <td>Як у лесе вырас. \\nГ. зн. маўклівы, дзікаваты.</td>\n",
       "      <td>ПАРАЎНАННІ</td>\n",
       "      <td>Алесь Зайка. Прыказкі і прымаўкі з Косаўшчыны</td>\n",
       "      <td>book</td>\n",
       "      <td>Алесь Зайка. Прыказкі і прымаўкі з Косаўшчыны, page 286</td>\n",
       "    </tr>\n",
       "    <tr>\n",
       "      <th>9746</th>\n",
       "      <td>Як у падушку б'юць. \\nУдары глухія, частыя.</td>\n",
       "      <td>ПАРАЎНАННІ</td>\n",
       "      <td>Алесь Зайка. Прыказкі і прымаўкі з Косаўшчыны</td>\n",
       "      <td>book</td>\n",
       "      <td>Алесь Зайка. Прыказкі і прымаўкі з Косаўшчыны, page 286</td>\n",
       "    </tr>\n",
       "    <tr>\n",
       "      <th>9747</th>\n",
       "      <td>Як у шчопці ўзяць. \\nГ. зн. мала.</td>\n",
       "      <td>ПАРАЎНАННІ</td>\n",
       "      <td>Алесь Зайка. Прыказкі і прымаўкі з Косаўшчыны</td>\n",
       "      <td>book</td>\n",
       "      <td>Алесь Зайка. Прыказкі і прымаўкі з Косаўшчыны, page 286</td>\n",
       "    </tr>\n",
       "    <tr>\n",
       "      <th>9748</th>\n",
       "      <td>Як цяляты язык аджавалі. \\n“Маўчыць, як яму цялята языка аджавалі” (прыклад інф.). Як чэрці на я...</td>\n",
       "      <td>ПАРАЎНАННІ</td>\n",
       "      <td>Алесь Зайка. Прыказкі і прымаўкі з Косаўшчыны</td>\n",
       "      <td>book</td>\n",
       "      <td>Алесь Зайка. Прыказкі і прымаўкі з Косаўшчыны, page 286</td>\n",
       "    </tr>\n",
       "  </tbody>\n",
       "</table>\n",
       "</div>"
      ],
      "text/plain": [
       "                                                                                                   phrase  \\\n",
       "9744                                 Як у душу плюнуў. \\nГ. зн. сказаў нешта вельмі непрыемнае, крыўднае.   \n",
       "9745                                                       Як у лесе вырас. \\nГ. зн. маўклівы, дзікаваты.   \n",
       "9746                                                          Як у падушку б'юць. \\nУдары глухія, частыя.   \n",
       "9747                                                                    Як у шчопці ўзяць. \\nГ. зн. мала.   \n",
       "9748  Як цяляты язык аджавалі. \\n“Маўчыць, як яму цялята языка аджавалі” (прыклад інф.). Як чэрці на я...   \n",
       "\n",
       "        category                                         source source_type  \\\n",
       "9744  ПАРАЎНАННІ  Алесь Зайка. Прыказкі і прымаўкі з Косаўшчыны        book   \n",
       "9745  ПАРАЎНАННІ  Алесь Зайка. Прыказкі і прымаўкі з Косаўшчыны        book   \n",
       "9746  ПАРАЎНАННІ  Алесь Зайка. Прыказкі і прымаўкі з Косаўшчыны        book   \n",
       "9747  ПАРАЎНАННІ  Алесь Зайка. Прыказкі і прымаўкі з Косаўшчыны        book   \n",
       "9748  ПАРАЎНАННІ  Алесь Зайка. Прыказкі і прымаўкі з Косаўшчыны        book   \n",
       "\n",
       "                                                  full_source  \n",
       "9744  Алесь Зайка. Прыказкі і прымаўкі з Косаўшчыны, page 286  \n",
       "9745  Алесь Зайка. Прыказкі і прымаўкі з Косаўшчыны, page 286  \n",
       "9746  Алесь Зайка. Прыказкі і прымаўкі з Косаўшчыны, page 286  \n",
       "9747  Алесь Зайка. Прыказкі і прымаўкі з Косаўшчыны, page 286  \n",
       "9748  Алесь Зайка. Прыказкі і прымаўкі з Косаўшчыны, page 286  "
      ]
     },
     "execution_count": 251,
     "metadata": {},
     "output_type": "execute_result"
    }
   ],
   "source": [
    "full_df.tail()"
   ]
  },
  {
   "cell_type": "code",
   "execution_count": 253,
   "id": "2258a08b-db84-4f40-8c11-73f125325bf9",
   "metadata": {},
   "outputs": [],
   "source": [
    "full_df.to_csv('data/full_df_v_0.1.csv', index=None)"
   ]
  },
  {
   "cell_type": "markdown",
   "id": "0fb397ec-e1d7-4a7c-999d-cff8a0a8d5c7",
   "metadata": {},
   "source": [
    "## Show some statistics on data"
   ]
  },
  {
   "cell_type": "code",
   "execution_count": null,
   "id": "4e67bcc5-115e-4a8d-ae30-603fe52b4874",
   "metadata": {},
   "outputs": [],
   "source": [
    "full_df"
   ]
  }
 ],
 "metadata": {
  "kernelspec": {
   "display_name": "Python 3 (ipykernel)",
   "language": "python",
   "name": "python3"
  },
  "language_info": {
   "codemirror_mode": {
    "name": "ipython",
    "version": 3
   },
   "file_extension": ".py",
   "mimetype": "text/x-python",
   "name": "python",
   "nbconvert_exporter": "python",
   "pygments_lexer": "ipython3",
   "version": "3.10.5"
  }
 },
 "nbformat": 4,
 "nbformat_minor": 5
}
